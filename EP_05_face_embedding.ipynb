# 5-8. 프로젝트: 나랑 닮은 연예인을 찾아보자

## 라이브러리 불러오기
---

import os
import face_recognition

%matplotlib inline
import matplotlib.pyplot as plt
import matplotlib.image as img

import numpy as np

from PIL import Image

## Step1. 사진 모으기
---

# 파일 경로 설정
dir_path = os.getenv('HOME') + '/aiffel/face_embedding/imagesforEP'
file_list = os.listdir(dir_path)

print('file_list: {}'.format(file_list))

# Set figsize
fig, axes = plt.subplots(nrows = 10, ncols = 3, figsize = (24, 30))

# flatten axes for easy iterating
for i, ax in enumerate(axes.flatten()):
    image = img.imread(dir_path + '/' + file_list[i])
    ax.imshow(image)
    
plt.show()

fig.tight_layout()

## Step2. 얼굴 영역 자르기
---

def get_cropped_face(image_file):
    image = face_recognition.load_image_file(image_file)
    face_locations = face_recognition.face_locations(image)
    a, b, c, d = face_locations[0]
    cropped_face = image[a:c, d:b, :]
    
    return cropped_face


image_path = dir_path + '/' + file_list[3]
# image_path = os.getenv('HOME')+'/aiffel/face_embedding/imagesforEP/현빈.jpg'
face = get_cropped_face(image_path)
pillow_image = Image.fromarray(face)
#pillow_image.save(path_to_save)
pillow_image

## Step3. 얼굴 영역의 임베딩 추출하기
---
`def get_face_embedding(face)` : 얼굴영역으로부터 얼굴 임베딩 벡터를 구하는 함수   
`def get_face_embedding_dict(dir_path)` : 디렉토리 안에 있는 모든 이미지의 임베딩 딕셔너리를 구하는 함수

def get_face_embedding(face):
    return face_recognition.face_encodings(face)

embedding = get_face_embedding(face)
embedding

def get_face_embedding_dict(dir_path):
    file_list = os.listdir(dir_path)
    embedding_dict = {}
    
    for file in file_list:
        img_path = os.path.join(dir_path, file)
        face = get_cropped_face(img_path)
        embedding = get_face_embedding(face)
        
        if len(embedding) > 0:
            embedding_dict[os.path.splitext(file)[0]] = embedding[0]
    
    return embedding_dict

embedding_dict = get_face_embedding_dict(dir_path)
embedding_dict['신봉선']

## Step4. 모은 연예인들과 비교하기
---
#### 저의 사진들끼리의 얼굴 임베딩 벡터 거리를 구하였습니다. 두 사진 간의 임베딩 벡터의 거리가 약 `0.39` 정도 입니다.

def get_distance(name1, name2):
    return np.linalg.norm(embedding_dict[name1]-embedding_dict[name2], ord=2)

get_distance('이충열1', '이충열2')

#### 연예인 사진들과 저의 얼굴 사진에서 추출한 임베딩 벡터들 간의 거리를 비교해 보고 가장 작은 연예인을 찾아보겠습니다.

def get_sort_key_func(name1):
    def get_distance_from_name1(name2):
        return get_distance(name1, name2)
    return get_distance_from_name1

def get_nearest_face(name, top = 5):
    sort_key_func = get_sort_key_func(name)
    sorted_faces = sorted(embedding_dict.items(), key = lambda x : sort_key_func(x[0]))
    
    for i in range(top + 4):
        if i == 0 :
            continue
        if sorted_faces[i]:
            print('순위 ({}), 이름 ({}), 거리 ({})'.format(i, sorted_faces[i][0], sort_key_func(sorted_faces[i][0])))

#### 저를 제외하고 많은 연예인들 가운데 개그맨 박휘순씨와 가장 닮은 것으로 나왔습니다. 

get_nearest_face('이충열1')
