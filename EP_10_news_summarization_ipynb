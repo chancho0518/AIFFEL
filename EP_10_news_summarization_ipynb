{
 "cells": [
  {
   "cell_type": "markdown",
   "id": "careful-gamma",
   "metadata": {},
   "source": [
    "# 10. 프로젝트: 뉴스기사 요약해보기\n",
    "---"
   ]
  },
  {
   "cell_type": "markdown",
   "id": "reasonable-emerald",
   "metadata": {},
   "source": [
    "## Step 1. 데이터 수집하기"
   ]
  },
  {
   "cell_type": "markdown",
   "id": "rolled-administrator",
   "metadata": {},
   "source": [
    "### 1-1 라이브러리 import 하기"
   ]
  },
  {
   "cell_type": "code",
   "execution_count": 32,
   "id": "beginning-savings",
   "metadata": {},
   "outputs": [
    {
     "name": "stdout",
     "output_type": "stream",
     "text": [
      "=3\n"
     ]
    },
    {
     "name": "stderr",
     "output_type": "stream",
     "text": [
      "[nltk_data] Downloading package stopwords to /aiffel/nltk_data...\n",
      "[nltk_data]   Package stopwords is already up-to-date!\n"
     ]
    }
   ],
   "source": [
    "import nltk\n",
    "nltk.download('stopwords')\n",
    "\n",
    "import numpy as np\n",
    "import pandas as pd\n",
    "import os\n",
    "import re\n",
    "import matplotlib.pyplot as plt\n",
    "from nltk.corpus import stopwords\n",
    "from bs4 import BeautifulSoup \n",
    "from tensorflow.keras.preprocessing.text import Tokenizer \n",
    "from tensorflow.keras.preprocessing.sequence import pad_sequences\n",
    "import urllib.request\n",
    "import warnings\n",
    "warnings.filterwarnings(\"ignore\", category=UserWarning, module='bs4')\n",
    "\n",
    "print('=3')"
   ]
  },
  {
   "cell_type": "markdown",
   "id": "threatened-trick",
   "metadata": {},
   "source": [
    "### 1-2 데이터 다운로드"
   ]
  },
  {
   "cell_type": "code",
   "execution_count": 33,
   "id": "otherwise-midnight",
   "metadata": {},
   "outputs": [],
   "source": [
    "urllib.request.urlretrieve(\"https://raw.githubusercontent.com/sunnysai12345/News_Summary/master/news_summary_more.csv\", filename=\"news_summary_more.csv\")\n",
    "data = pd.read_csv('news_summary_more.csv', encoding='iso-8859-1')"
   ]
  },
  {
   "cell_type": "code",
   "execution_count": 34,
   "id": "provincial-latin",
   "metadata": {},
   "outputs": [
    {
     "data": {
      "text/html": [
       "<div>\n",
       "<style scoped>\n",
       "    .dataframe tbody tr th:only-of-type {\n",
       "        vertical-align: middle;\n",
       "    }\n",
       "\n",
       "    .dataframe tbody tr th {\n",
       "        vertical-align: top;\n",
       "    }\n",
       "\n",
       "    .dataframe thead th {\n",
       "        text-align: right;\n",
       "    }\n",
       "</style>\n",
       "<table border=\"1\" class=\"dataframe\">\n",
       "  <thead>\n",
       "    <tr style=\"text-align: right;\">\n",
       "      <th></th>\n",
       "      <th>headlines</th>\n",
       "      <th>text</th>\n",
       "    </tr>\n",
       "  </thead>\n",
       "  <tbody>\n",
       "    <tr>\n",
       "      <th>29844</th>\n",
       "      <td>You are therefore I am: Aishwarya on her mothe...</td>\n",
       "      <td>Aishwarya Rai Bachchan took to social media to...</td>\n",
       "    </tr>\n",
       "    <tr>\n",
       "      <th>2659</th>\n",
       "      <td>Timely conversations: Karan shares pic from B'...</td>\n",
       "      <td>Sharing a picture from PM Narendra Modi's meet...</td>\n",
       "    </tr>\n",
       "    <tr>\n",
       "      <th>15053</th>\n",
       "      <td>Scientists link 3 users' brains to play video ...</td>\n",
       "      <td>Scientists have developed a three-person brain...</td>\n",
       "    </tr>\n",
       "    <tr>\n",
       "      <th>54282</th>\n",
       "      <td>China outcompeting us as PM Modi gives empty s...</td>\n",
       "      <td>Slamming the government over only 7% utilisati...</td>\n",
       "    </tr>\n",
       "    <tr>\n",
       "      <th>76348</th>\n",
       "      <td>Singapore police investigate case of toothpick...</td>\n",
       "      <td>Singapore police is investigating a 60-year-ol...</td>\n",
       "    </tr>\n",
       "    <tr>\n",
       "      <th>55846</th>\n",
       "      <td>Trailer of Rani Mukerji starrer 'Hichki' released</td>\n",
       "      <td>The trailer of Rani Mukerji starrer 'Hichki' h...</td>\n",
       "    </tr>\n",
       "    <tr>\n",
       "      <th>17777</th>\n",
       "      <td>Nepal to take part in military exercise with C...</td>\n",
       "      <td>Nepal will take part in a 12-day-long military...</td>\n",
       "    </tr>\n",
       "    <tr>\n",
       "      <th>74148</th>\n",
       "      <td>Spanish police shoot Barcelona attacker dead</td>\n",
       "      <td>Spanish police on Monday shot dead the man who...</td>\n",
       "    </tr>\n",
       "    <tr>\n",
       "      <th>78016</th>\n",
       "      <td>None imagined me in this film post serial-kiss...</td>\n",
       "      <td>Actor Emraan Hashmi, whose film 'Once Upon a T...</td>\n",
       "    </tr>\n",
       "    <tr>\n",
       "      <th>69767</th>\n",
       "      <td>Apple to hire engineer with psychology backgro...</td>\n",
       "      <td>Apple is hiring a software engineer with psych...</td>\n",
       "    </tr>\n",
       "  </tbody>\n",
       "</table>\n",
       "</div>"
      ],
      "text/plain": [
       "                                               headlines  \\\n",
       "29844  You are therefore I am: Aishwarya on her mothe...   \n",
       "2659   Timely conversations: Karan shares pic from B'...   \n",
       "15053  Scientists link 3 users' brains to play video ...   \n",
       "54282  China outcompeting us as PM Modi gives empty s...   \n",
       "76348  Singapore police investigate case of toothpick...   \n",
       "55846  Trailer of Rani Mukerji starrer 'Hichki' released   \n",
       "17777  Nepal to take part in military exercise with C...   \n",
       "74148       Spanish police shoot Barcelona attacker dead   \n",
       "78016  None imagined me in this film post serial-kiss...   \n",
       "69767  Apple to hire engineer with psychology backgro...   \n",
       "\n",
       "                                                    text  \n",
       "29844  Aishwarya Rai Bachchan took to social media to...  \n",
       "2659   Sharing a picture from PM Narendra Modi's meet...  \n",
       "15053  Scientists have developed a three-person brain...  \n",
       "54282  Slamming the government over only 7% utilisati...  \n",
       "76348  Singapore police is investigating a 60-year-ol...  \n",
       "55846  The trailer of Rani Mukerji starrer 'Hichki' h...  \n",
       "17777  Nepal will take part in a 12-day-long military...  \n",
       "74148  Spanish police on Monday shot dead the man who...  \n",
       "78016  Actor Emraan Hashmi, whose film 'Once Upon a T...  \n",
       "69767  Apple is hiring a software engineer with psych...  "
      ]
     },
     "execution_count": 34,
     "metadata": {},
     "output_type": "execute_result"
    }
   ],
   "source": [
    "data.sample(10)"
   ]
  },
  {
   "cell_type": "code",
   "execution_count": 35,
   "id": "celtic-reverse",
   "metadata": {},
   "outputs": [
    {
     "name": "stdout",
     "output_type": "stream",
     "text": [
      "<class 'pandas.core.frame.DataFrame'>\n",
      "RangeIndex: 98401 entries, 0 to 98400\n",
      "Data columns (total 2 columns):\n",
      " #   Column     Non-Null Count  Dtype \n",
      "---  ------     --------------  ----- \n",
      " 0   headlines  98401 non-null  object\n",
      " 1   text       98401 non-null  object\n",
      "dtypes: object(2)\n",
      "memory usage: 1.5+ MB\n"
     ]
    }
   ],
   "source": [
    "data.info()"
   ]
  },
  {
   "cell_type": "markdown",
   "id": "stunning-testing",
   "metadata": {},
   "source": [
    "## Step 2. 데이터 전처리하기(추상적 요약)"
   ]
  },
  {
   "cell_type": "markdown",
   "id": "former-blocking",
   "metadata": {},
   "source": [
    "2-1 중복을 제외한 샘플 수 확인"
   ]
  },
  {
   "cell_type": "code",
   "execution_count": 36,
   "id": "according-warner",
   "metadata": {},
   "outputs": [
    {
     "name": "stdout",
     "output_type": "stream",
     "text": [
      "Text 열에서 중복을 배제한 유일한 샘플의 수 : 98280\n",
      "Summary 열에서 중복을 배제한 유일한 샘플의 수 : 98360\n"
     ]
    }
   ],
   "source": [
    "print('Text 열에서 중복을 배제한 유일한 샘플의 수 :', data['headlines'].nunique())\n",
    "print('Summary 열에서 중복을 배제한 유일한 샘플의 수 :', data['text'].nunique())"
   ]
  },
  {
   "cell_type": "markdown",
   "id": "ready-monroe",
   "metadata": {},
   "source": [
    "### 2-2 중복 샘플 제거"
   ]
  },
  {
   "cell_type": "code",
   "execution_count": 37,
   "id": "effective-kentucky",
   "metadata": {},
   "outputs": [
    {
     "name": "stdout",
     "output_type": "stream",
     "text": [
      "전체 샘플수 : 98360\n"
     ]
    }
   ],
   "source": [
    "# inplace=True 를 설정하면 DataFrame 타입 값을 return 하지 않고 data 내부를 직접적으로 바꿉니다\n",
    "data.drop_duplicates(subset = ['text'], inplace=True)\n",
    "print('전체 샘플수 :', (len(data)))"
   ]
  },
  {
   "cell_type": "markdown",
   "id": "unexpected-soldier",
   "metadata": {},
   "source": [
    "### 2-3 Null값 확인"
   ]
  },
  {
   "cell_type": "code",
   "execution_count": 38,
   "id": "lonely-reconstruction",
   "metadata": {},
   "outputs": [
    {
     "name": "stdout",
     "output_type": "stream",
     "text": [
      "headlines    0\n",
      "text         0\n",
      "dtype: int64\n"
     ]
    }
   ],
   "source": [
    "print(data.isnull().sum())"
   ]
  },
  {
   "cell_type": "markdown",
   "id": "creative-singing",
   "metadata": {},
   "source": [
    "### 2-4 텍스트 정규화와 불용어 제거"
   ]
  },
  {
   "cell_type": "markdown",
   "id": "unknown-discrimination",
   "metadata": {},
   "source": [
    "#### 텍스트 정규화를 위한 사전 구성"
   ]
  },
  {
   "cell_type": "code",
   "execution_count": 39,
   "id": "nervous-george",
   "metadata": {},
   "outputs": [
    {
     "name": "stdout",
     "output_type": "stream",
     "text": [
      "정규화 사전의 수:  120\n"
     ]
    }
   ],
   "source": [
    "contractions = {\"ain't\": \"is not\", \"aren't\": \"are not\",\"can't\": \"cannot\", \"'cause\": \"because\", \"could've\": \"could have\", \"couldn't\": \"could not\",\n",
    "                           \"didn't\": \"did not\",  \"doesn't\": \"does not\", \"don't\": \"do not\", \"hadn't\": \"had not\", \"hasn't\": \"has not\", \"haven't\": \"have not\",\n",
    "                           \"he'd\": \"he would\",\"he'll\": \"he will\", \"he's\": \"he is\", \"how'd\": \"how did\", \"how'd'y\": \"how do you\", \"how'll\": \"how will\", \"how's\": \"how is\",\n",
    "                           \"I'd\": \"I would\", \"I'd've\": \"I would have\", \"I'll\": \"I will\", \"I'll've\": \"I will have\",\"I'm\": \"I am\", \"I've\": \"I have\", \"i'd\": \"i would\",\n",
    "                           \"i'd've\": \"i would have\", \"i'll\": \"i will\",  \"i'll've\": \"i will have\",\"i'm\": \"i am\", \"i've\": \"i have\", \"isn't\": \"is not\", \"it'd\": \"it would\",\n",
    "                           \"it'd've\": \"it would have\", \"it'll\": \"it will\", \"it'll've\": \"it will have\",\"it's\": \"it is\", \"let's\": \"let us\", \"ma'am\": \"madam\",\n",
    "                           \"mayn't\": \"may not\", \"might've\": \"might have\",\"mightn't\": \"might not\",\"mightn't've\": \"might not have\", \"must've\": \"must have\",\n",
    "                           \"mustn't\": \"must not\", \"mustn't've\": \"must not have\", \"needn't\": \"need not\", \"needn't've\": \"need not have\",\"o'clock\": \"of the clock\",\n",
    "                           \"oughtn't\": \"ought not\", \"oughtn't've\": \"ought not have\", \"shan't\": \"shall not\", \"sha'n't\": \"shall not\", \"shan't've\": \"shall not have\",\n",
    "                           \"she'd\": \"she would\", \"she'd've\": \"she would have\", \"she'll\": \"she will\", \"she'll've\": \"she will have\", \"she's\": \"she is\",\n",
    "                           \"should've\": \"should have\", \"shouldn't\": \"should not\", \"shouldn't've\": \"should not have\", \"so've\": \"so have\",\"so's\": \"so as\",\n",
    "                           \"this's\": \"this is\",\"that'd\": \"that would\", \"that'd've\": \"that would have\", \"that's\": \"that is\", \"there'd\": \"there would\",\n",
    "                           \"there'd've\": \"there would have\", \"there's\": \"there is\", \"here's\": \"here is\",\"they'd\": \"they would\", \"they'd've\": \"they would have\",\n",
    "                           \"they'll\": \"they will\", \"they'll've\": \"they will have\", \"they're\": \"they are\", \"they've\": \"they have\", \"to've\": \"to have\",\n",
    "                           \"wasn't\": \"was not\", \"we'd\": \"we would\", \"we'd've\": \"we would have\", \"we'll\": \"we will\", \"we'll've\": \"we will have\", \"we're\": \"we are\",\n",
    "                           \"we've\": \"we have\", \"weren't\": \"were not\", \"what'll\": \"what will\", \"what'll've\": \"what will have\", \"what're\": \"what are\",\n",
    "                           \"what's\": \"what is\", \"what've\": \"what have\", \"when's\": \"when is\", \"when've\": \"when have\", \"where'd\": \"where did\", \"where's\": \"where is\",\n",
    "                           \"where've\": \"where have\", \"who'll\": \"who will\", \"who'll've\": \"who will have\", \"who's\": \"who is\", \"who've\": \"who have\",\n",
    "                           \"why's\": \"why is\", \"why've\": \"why have\", \"will've\": \"will have\", \"won't\": \"will not\", \"won't've\": \"will not have\",\n",
    "                           \"would've\": \"would have\", \"wouldn't\": \"would not\", \"wouldn't've\": \"would not have\", \"y'all\": \"you all\",\n",
    "                           \"y'all'd\": \"you all would\",\"y'all'd've\": \"you all would have\",\"y'all're\": \"you all are\",\"y'all've\": \"you all have\",\n",
    "                           \"you'd\": \"you would\", \"you'd've\": \"you would have\", \"you'll\": \"you will\", \"you'll've\": \"you will have\",\n",
    "                           \"you're\": \"you are\", \"you've\": \"you have\"}\n",
    "\n",
    "print(\"정규화 사전의 수: \", len(contractions))"
   ]
  },
  {
   "cell_type": "markdown",
   "id": "nominated-clarity",
   "metadata": {},
   "source": [
    "#### NLTK에서 제공하는 불용어 리스트"
   ]
  },
  {
   "cell_type": "code",
   "execution_count": 40,
   "id": "sitting-pricing",
   "metadata": {},
   "outputs": [
    {
     "name": "stdout",
     "output_type": "stream",
     "text": [
      "불용어 개수 : 179\n",
      "['i', 'me', 'my', 'myself', 'we', 'our', 'ours', 'ourselves', 'you', \"you're\", \"you've\", \"you'll\", \"you'd\", 'your', 'yours', 'yourself', 'yourselves', 'he', 'him', 'his', 'himself', 'she', \"she's\", 'her', 'hers', 'herself', 'it', \"it's\", 'its', 'itself', 'they', 'them', 'their', 'theirs', 'themselves', 'what', 'which', 'who', 'whom', 'this', 'that', \"that'll\", 'these', 'those', 'am', 'is', 'are', 'was', 'were', 'be', 'been', 'being', 'have', 'has', 'had', 'having', 'do', 'does', 'did', 'doing', 'a', 'an', 'the', 'and', 'but', 'if', 'or', 'because', 'as', 'until', 'while', 'of', 'at', 'by', 'for', 'with', 'about', 'against', 'between', 'into', 'through', 'during', 'before', 'after', 'above', 'below', 'to', 'from', 'up', 'down', 'in', 'out', 'on', 'off', 'over', 'under', 'again', 'further', 'then', 'once', 'here', 'there', 'when', 'where', 'why', 'how', 'all', 'any', 'both', 'each', 'few', 'more', 'most', 'other', 'some', 'such', 'no', 'nor', 'not', 'only', 'own', 'same', 'so', 'than', 'too', 'very', 's', 't', 'can', 'will', 'just', 'don', \"don't\", 'should', \"should've\", 'now', 'd', 'll', 'm', 'o', 're', 've', 'y', 'ain', 'aren', \"aren't\", 'couldn', \"couldn't\", 'didn', \"didn't\", 'doesn', \"doesn't\", 'hadn', \"hadn't\", 'hasn', \"hasn't\", 'haven', \"haven't\", 'isn', \"isn't\", 'ma', 'mightn', \"mightn't\", 'mustn', \"mustn't\", 'needn', \"needn't\", 'shan', \"shan't\", 'shouldn', \"shouldn't\", 'wasn', \"wasn't\", 'weren', \"weren't\", 'won', \"won't\", 'wouldn', \"wouldn't\"]\n"
     ]
    }
   ],
   "source": [
    "print('불용어 개수 :', len(stopwords.words('english') ))\n",
    "print(stopwords.words('english'))"
   ]
  },
  {
   "cell_type": "markdown",
   "id": "veterinary-ticket",
   "metadata": {},
   "source": [
    "#### 데이터 전처리 함수"
   ]
  },
  {
   "cell_type": "code",
   "execution_count": 41,
   "id": "norwegian-friend",
   "metadata": {},
   "outputs": [],
   "source": [
    "# 데이터 전처리 함수\n",
    "def preprocess_sentence(sentence, remove_stopwords=True):\n",
    "    sentence = sentence.lower() # 텍스트 소문자화\n",
    "    sentence = BeautifulSoup(sentence, \"lxml\").text # <br />, <a href = ...> 등의 html 태그 제거\n",
    "    sentence = re.sub(r'\\([^)]*\\)', '', sentence) # 괄호로 닫힌 문자열 (...) 제거 Ex) my husband (and myself!) for => my husband for\n",
    "    sentence = re.sub('\"','', sentence) # 쌍따옴표 \" 제거\n",
    "    sentence = ' '.join([contractions[t] if t in contractions else t for t in sentence.split(\" \")]) # 약어 정규화\n",
    "    sentence = re.sub(r\"'s\\b\",\"\", sentence) # 소유격 제거. Ex) roland's -> roland\n",
    "    sentence = re.sub(\"[^a-zA-Z]\", \" \", sentence) # 영어 외 문자(숫자, 특수문자 등) 공백으로 변환\n",
    "    sentence = re.sub('[m]{2,}', 'mm', sentence) # m이 3개 이상이면 2개로 변경. Ex) ummmmmmm yeah -> umm yeah\n",
    "    \n",
    "    # 불용어 제거 (Text)\n",
    "    if remove_stopwords:\n",
    "        tokens = ' '.join(word for word in sentence.split() if not word in stopwords.words('english') if len(word) > 1)\n",
    "    # 불용어 미제거 (Summary)\n",
    "    else:\n",
    "        tokens = ' '.join(word for word in sentence.split() if len(word) > 1)\n",
    "    return tokens"
   ]
  },
  {
   "cell_type": "code",
   "execution_count": 42,
   "id": "revised-stewart",
   "metadata": {},
   "outputs": [
    {
     "name": "stdout",
     "output_type": "stream",
     "text": [
      "everything bought great infact ordered twice third ordered wasfor mother father\n",
      "great way to start the day\n"
     ]
    }
   ],
   "source": [
    "temp_text = 'Everything I bought was great, infact I ordered twice and the third ordered was<br />for my mother and father.'\n",
    "temp_summary = 'Great way to start (or finish) the day!!!'\n",
    "\n",
    "print(preprocess_sentence(temp_text))\n",
    "print(preprocess_sentence(temp_summary, False))  # 불용어를 제거하지 않습니다."
   ]
  },
  {
   "cell_type": "markdown",
   "id": "preliminary-magnitude",
   "metadata": {},
   "source": [
    "#### 멀티프로세싱 데이터 전처리 함수 생성"
   ]
  },
  {
   "cell_type": "code",
   "execution_count": 43,
   "id": "latest-butter",
   "metadata": {},
   "outputs": [],
   "source": [
    "import multiprocessing as mp   # 멀티 프로세싱으로 전처리 속도를 획기적으로 줄여봅시다\n",
    "from multiprocessing import Pool\n",
    "import numpy as np\n",
    "import time\n",
    "from functools import partial  # map을 할 때 함수에 여러 인자를 넣어줄 수 있도록 합니다\n",
    "\n",
    "start = time.time()\n",
    "\n",
    "# num_cores 만큼 쪼개진 데이터를 전처리하여 반환합니다\n",
    "def appendTexts(sentences, remove_stopwords):\n",
    "  texts = []\n",
    "  for s in sentences:\n",
    "    texts += preprocess_sentence(s, remove_stopwords),\n",
    "  return texts\n",
    "\n",
    "def preprocess_data(data, remove_stopwords=True):\n",
    "  start_time = time.time()\n",
    "  num_cores = mp.cpu_count()  # 컴퓨터의 코어 수를 구합니다\n",
    "\n",
    "  text_data_split = np.array_split(data, num_cores)  # 코어 수만큼 데이터를 배분하여 병렬적으로 처리할 수 있게 합니다\n",
    "  pool = Pool(num_cores)\n",
    "\n",
    "  processed_data = np.concatenate(pool.map(partial(appendTexts, remove_stopwords=remove_stopwords), text_data_split))  # 각자 작업한 데이터를 하나로 합쳐줍니다\n",
    "  pool.close()\n",
    "  pool.join()\n",
    "  print(time.time() - start_time, \" seconds\")\n",
    "  return processed_data"
   ]
  },
  {
   "cell_type": "markdown",
   "id": "preliminary-basket",
   "metadata": {},
   "source": [
    "#### 멀티프로세싱 데이터 전처리 진행"
   ]
  },
  {
   "cell_type": "code",
   "execution_count": 44,
   "id": "polished-atmosphere",
   "metadata": {},
   "outputs": [
    {
     "name": "stdout",
     "output_type": "stream",
     "text": [
      "12.290749788284302  seconds\n",
      "['upgrad learner switches to career in ml al with salary hike'\n",
      " 'delhi techie wins free food from swiggy for one year on cred'\n",
      " 'new zealand end rohit sharma led india match winning streak' ...\n",
      " 'the matrix film to get reboot reports'\n",
      " 'snoop dogg aims gun at clown dressed as trump in new video'\n",
      " 'madhesi morcha withdraws support to nepalese government']\n",
      "421.4348695278168  seconds\n",
      "['saurav kant alumnus upgrad iiit pg program machine learning artificial intelligence sr systems engineer infosys almost years work experience program upgrad degree career support helped transition data scientist tech mahindra salary hike upgrad online power learning powered lakh careers'\n",
      " 'kunal shah credit card bill payment platform cred gave users chance win free food swiggy one year pranav kaushik delhi techie bagged reward spending cred coins users get one cred coin per rupee bill paid used avail rewards brands like ixigo bookmyshow ubereats cult fit'\n",
      " 'new zealand defeated india wickets fourth odi hamilton thursday win first match five match odi series india lost international match rohit sharma captaincy consecutive victories dating back march match witnessed india getting seventh lowest total odi cricket history'\n",
      " ...\n",
      " 'according reports new version science fiction film matrix development michael jordan reportedly play lead role film screenwriter zak penn talks write script film reports added actor keanu reeves starred original film followed two sequels'\n",
      " 'new music video shows rapper snoop dogg aiming toy gun clown character parodying us president donald trump video also shows tv airing news conference headline ronald klump wants deport doggs airing live clown house video remixed version song lavender'\n",
      " 'madhesi morcha alliance seven political parties withdrawn support pm pushpa kamal dahal led nepal government failed meet seven day ultimatum fulfil demands including endorsement revised constitution amendment bill morcha seats parliament despite withdrawal support immediate threat government']\n"
     ]
    }
   ],
   "source": [
    "clean_headlines = preprocess_data(data['headlines'], remove_stopwords=False)\n",
    "print(clean_headlines)\n",
    "\n",
    "clean_text = preprocess_data(data['text'])\n",
    "print(clean_text)"
   ]
  },
  {
   "cell_type": "markdown",
   "id": "solid-girlfriend",
   "metadata": {},
   "source": [
    "#### 데이터 전처리 후 빈(empty) 샘플이 생겼는지 확인하여 Null값으로 변환"
   ]
  },
  {
   "cell_type": "code",
   "execution_count": 45,
   "id": "gorgeous-sound",
   "metadata": {},
   "outputs": [],
   "source": [
    "data['headlines'] = clean_headlines\n",
    "data['text'] = clean_text\n",
    "\n",
    "# 빈 값을 Null 값으로 변환\n",
    "data.replace('', np.nan, inplace=True)"
   ]
  },
  {
   "cell_type": "markdown",
   "id": "referenced-chase",
   "metadata": {},
   "source": [
    "#### Null값 유무 확인"
   ]
  },
  {
   "cell_type": "code",
   "execution_count": 46,
   "id": "transsexual-jewelry",
   "metadata": {},
   "outputs": [
    {
     "data": {
      "text/plain": [
       "headlines    0\n",
       "text         0\n",
       "dtype: int64"
      ]
     },
     "execution_count": 46,
     "metadata": {},
     "output_type": "execute_result"
    }
   ],
   "source": [
    "data.isnull().sum()"
   ]
  },
  {
   "cell_type": "markdown",
   "id": "satisfactory-least",
   "metadata": {},
   "source": [
    "### 2-5 샘플의 최대 길이 정하기"
   ]
  },
  {
   "cell_type": "markdown",
   "id": "printable-mainland",
   "metadata": {},
   "source": [
    "#### headlines와 text의 분포 시각화"
   ]
  },
  {
   "cell_type": "code",
   "execution_count": 47,
   "id": "ceramic-present",
   "metadata": {},
   "outputs": [
    {
     "name": "stdout",
     "output_type": "stream",
     "text": [
      "headlines의 최소 길이 : 1\n",
      "headlines의 최대 길이 : 16\n",
      "headlines의 평균 길이 : 9.299532330215534\n",
      "text의 최소 길이 : 1\n",
      "text의 최대 길이 : 60\n",
      "text의 평균 길이 : 35.09968483123221\n"
     ]
    },
    {
     "data": {
      "image/png": "[encoded data removed]",
      "text/plain": [
       "<Figure size 432x288 with 2 Axes>"
      ]
     },
     "metadata": {
      "needs_background": "light"
     },
     "output_type": "display_data"
    },
    {
     "data": {
      "image/png": "[encoded data removed]",
      "text/plain": [
       "<Figure size 432x288 with 1 Axes>"
      ]
     },
     "metadata": {
      "needs_background": "light"
     },
     "output_type": "display_data"
    },
    {
     "data": {
      "image/png": "[encoded data removed]",
      "text/plain": [
       "<Figure size 432x288 with 1 Axes>"
      ]
     },
     "metadata": {
      "needs_background": "light"
     },
     "output_type": "display_data"
    }
   ],
   "source": [
    "# 길이 분포 출력\n",
    "import matplotlib.pyplot as plt\n",
    "\n",
    "headlines_len = [len(s.split()) for s in data['headlines']]\n",
    "text_len = [len(s.split()) for s in data['text']]\n",
    "\n",
    "print('headlines의 최소 길이 : {}'.format(np.min(headlines_len)))\n",
    "print('headlines의 최대 길이 : {}'.format(np.max(headlines_len)))\n",
    "print('headlines의 평균 길이 : {}'.format(np.mean(headlines_len)))\n",
    "print('text의 최소 길이 : {}'.format(np.min(text_len)))\n",
    "print('text의 최대 길이 : {}'.format(np.max(text_len)))\n",
    "print('text의 평균 길이 : {}'.format(np.mean(text_len)))\n",
    "\n",
    "plt.subplot(1,2,1)\n",
    "plt.boxplot(headlines_len)\n",
    "plt.title('headlines')\n",
    "plt.subplot(1,2,2)\n",
    "plt.boxplot(text_len)\n",
    "plt.title('text')\n",
    "plt.tight_layout()\n",
    "plt.show()\n",
    "\n",
    "plt.title('headlines')\n",
    "plt.hist(headlines_len, bins = 40)\n",
    "plt.xlabel('length of samples')\n",
    "plt.ylabel('number of samples')\n",
    "plt.show()\n",
    "\n",
    "plt.title('text')\n",
    "plt.hist(text_len, bins = 40)\n",
    "plt.xlabel('length of samples')\n",
    "plt.ylabel('number of samples')\n",
    "plt.show()"
   ]
  },
  {
   "cell_type": "markdown",
   "id": "fifty-technical",
   "metadata": {},
   "source": [
    "* headlines는 최소 길이가 1, 최대길이가 16, 평균 길이가 9\n",
    "* text는 최소 길이가 1, 최대 길이가 60, 평균 길이가 35"
   ]
  },
  {
   "cell_type": "markdown",
   "id": "muslim-daniel",
   "metadata": {},
   "source": [
    "#### headlines의 최대 길이와 text의 최대 길이를 임의 설정"
   ]
  },
  {
   "cell_type": "code",
   "execution_count": 48,
   "id": "excess-luxury",
   "metadata": {},
   "outputs": [
    {
     "name": "stdout",
     "output_type": "stream",
     "text": [
      "=3\n"
     ]
    }
   ],
   "source": [
    "headlines_max_len = 10\n",
    "text_max_len = 40\n",
    "print('=3')"
   ]
  },
  {
   "cell_type": "markdown",
   "id": "monetary-amsterdam",
   "metadata": {},
   "source": [
    "#### 훈련 데이터와 샘플의 길이를 입력하면, 데이터의 몇 %가 해당하는지 계산하는 함수"
   ]
  },
  {
   "cell_type": "code",
   "execution_count": 49,
   "id": "geographic-vancouver",
   "metadata": {},
   "outputs": [
    {
     "name": "stdout",
     "output_type": "stream",
     "text": [
      "=3\n"
     ]
    }
   ],
   "source": [
    "def below_threshold_len(max_len, nested_list):\n",
    "  cnt = 0\n",
    "  for s in nested_list:\n",
    "    if(len(s.split()) <= max_len):\n",
    "        cnt = cnt + 1\n",
    "  print('전체 샘플 중 길이가 %s 이하인 샘플의 비율: %s'%(max_len, (cnt / len(nested_list))))\n",
    "print('=3')"
   ]
  },
  {
   "cell_type": "markdown",
   "id": "mechanical-birthday",
   "metadata": {},
   "source": [
    "#### 임의로 설정한 길이가 몇%의 샘플까지 포함하는지 확인"
   ]
  },
  {
   "cell_type": "code",
   "execution_count": 50,
   "id": "infectious-heath",
   "metadata": {},
   "outputs": [
    {
     "name": "stdout",
     "output_type": "stream",
     "text": [
      "전체 샘플 중 길이가 10 이하인 샘플의 비율: 0.8162972753151687\n",
      "전체 샘플 중 길이가 40 이하인 샘플의 비율: 0.9238714924766165\n"
     ]
    }
   ],
   "source": [
    "below_threshold_len(headlines_max_len, data['headlines'])\n",
    "below_threshold_len(text_max_len,  data['text'])"
   ]
  },
  {
   "cell_type": "markdown",
   "id": "brief-sheriff",
   "metadata": {},
   "source": [
    "#### 정해진 길이보다 긴 샘플 제외"
   ]
  },
  {
   "cell_type": "code",
   "execution_count": 53,
   "id": "hindu-organic",
   "metadata": {},
   "outputs": [
    {
     "name": "stdout",
     "output_type": "stream",
     "text": [
      "전체 샘플수 : 74102\n"
     ]
    }
   ],
   "source": [
    "data = data[data['headlines'].apply(lambda x: len(x.split()) <= headlines_max_len)]\n",
    "data = data[data['text'].apply(lambda x: len(x.split()) <= text_max_len)]\n",
    "print('전체 샘플수 :', (len(data)))"
   ]
  },
  {
   "cell_type": "markdown",
   "id": "chinese-traffic",
   "metadata": {},
   "source": [
    "### 2-6 시작 토큰과 종료 토큰 추가하기"
   ]
  },
  {
   "cell_type": "markdown",
   "id": "obvious-static",
   "metadata": {},
   "source": [
    "#### 요약 데이터에 시작 토큰과 종료 토큰 추가"
   ]
  },
  {
   "cell_type": "code",
   "execution_count": 76,
   "id": "constant-exposure",
   "metadata": {},
   "outputs": [
    {
     "data": {
      "text/html": [
       "<div>\n",
       "<style scoped>\n",
       "    .dataframe tbody tr th:only-of-type {\n",
       "        vertical-align: middle;\n",
       "    }\n",
       "\n",
       "    .dataframe tbody tr th {\n",
       "        vertical-align: top;\n",
       "    }\n",
       "\n",
       "    .dataframe thead th {\n",
       "        text-align: right;\n",
       "    }\n",
       "</style>\n",
       "<table border=\"1\" class=\"dataframe\">\n",
       "  <thead>\n",
       "    <tr style=\"text-align: right;\">\n",
       "      <th></th>\n",
       "      <th>headlines</th>\n",
       "      <th>text</th>\n",
       "      <th>decoder_input</th>\n",
       "      <th>decoder_target</th>\n",
       "    </tr>\n",
       "  </thead>\n",
       "  <tbody>\n",
       "    <tr>\n",
       "      <th>2</th>\n",
       "      <td>new zealand end rohit sharma led india match w...</td>\n",
       "      <td>new zealand defeated india wickets fourth odi ...</td>\n",
       "      <td>sostoken new zealand end rohit sharma led indi...</td>\n",
       "      <td>new zealand end rohit sharma led india match w...</td>\n",
       "    </tr>\n",
       "    <tr>\n",
       "      <th>3</th>\n",
       "      <td>aegon life iterm insurance plan helps customer...</td>\n",
       "      <td>aegon life iterm insurance plan customers enjo...</td>\n",
       "      <td>sostoken aegon life iterm insurance plan helps...</td>\n",
       "      <td>aegon life iterm insurance plan helps customer...</td>\n",
       "    </tr>\n",
       "    <tr>\n",
       "      <th>5</th>\n",
       "      <td>rahat fateh ali khan denies getting notice for...</td>\n",
       "      <td>pakistani singer rahat fateh ali khan denied r...</td>\n",
       "      <td>sostoken rahat fateh ali khan denies getting n...</td>\n",
       "      <td>rahat fateh ali khan denies getting notice for...</td>\n",
       "    </tr>\n",
       "    <tr>\n",
       "      <th>9</th>\n",
       "      <td>cong wins ramgarh bypoll in rajasthan takes to...</td>\n",
       "      <td>congress candidate shafia zubair ramgarh assem...</td>\n",
       "      <td>sostoken cong wins ramgarh bypoll in rajasthan...</td>\n",
       "      <td>cong wins ramgarh bypoll in rajasthan takes to...</td>\n",
       "    </tr>\n",
       "    <tr>\n",
       "      <th>10</th>\n",
       "      <td>up cousins fed human excreta for friendship wi...</td>\n",
       "      <td>two minor cousins uttar pradesh gorakhpur alle...</td>\n",
       "      <td>sostoken up cousins fed human excreta for frie...</td>\n",
       "      <td>up cousins fed human excreta for friendship wi...</td>\n",
       "    </tr>\n",
       "  </tbody>\n",
       "</table>\n",
       "</div>"
      ],
      "text/plain": [
       "                                            headlines  \\\n",
       "2   new zealand end rohit sharma led india match w...   \n",
       "3   aegon life iterm insurance plan helps customer...   \n",
       "5   rahat fateh ali khan denies getting notice for...   \n",
       "9   cong wins ramgarh bypoll in rajasthan takes to...   \n",
       "10  up cousins fed human excreta for friendship wi...   \n",
       "\n",
       "                                                 text  \\\n",
       "2   new zealand defeated india wickets fourth odi ...   \n",
       "3   aegon life iterm insurance plan customers enjo...   \n",
       "5   pakistani singer rahat fateh ali khan denied r...   \n",
       "9   congress candidate shafia zubair ramgarh assem...   \n",
       "10  two minor cousins uttar pradesh gorakhpur alle...   \n",
       "\n",
       "                                        decoder_input  \\\n",
       "2   sostoken new zealand end rohit sharma led indi...   \n",
       "3   sostoken aegon life iterm insurance plan helps...   \n",
       "5   sostoken rahat fateh ali khan denies getting n...   \n",
       "9   sostoken cong wins ramgarh bypoll in rajasthan...   \n",
       "10  sostoken up cousins fed human excreta for frie...   \n",
       "\n",
       "                                       decoder_target  \n",
       "2   new zealand end rohit sharma led india match w...  \n",
       "3   aegon life iterm insurance plan helps customer...  \n",
       "5   rahat fateh ali khan denies getting notice for...  \n",
       "9   cong wins ramgarh bypoll in rajasthan takes to...  \n",
       "10  up cousins fed human excreta for friendship wi...  "
      ]
     },
     "execution_count": 76,
     "metadata": {},
     "output_type": "execute_result"
    }
   ],
   "source": [
    "data['decoder_input'] = data['headlines'].apply(lambda x : 'sostoken '+ x)\n",
    "data['decoder_target'] = data['headlines'].apply(lambda x : x + ' eostoken')\n",
    "data.head()"
   ]
  },
  {
   "cell_type": "markdown",
   "id": "inappropriate-failure",
   "metadata": {},
   "source": [
    "#### 인코더의 입력, 디코더의 입력과 레이블을 각각 다시 Numpy 타입으로 저장"
   ]
  },
  {
   "cell_type": "code",
   "execution_count": 77,
   "id": "adverse-thread",
   "metadata": {},
   "outputs": [
    {
     "name": "stdout",
     "output_type": "stream",
     "text": [
      "=3\n"
     ]
    }
   ],
   "source": [
    "encoder_input = np.array(data['text']) # 인코더의 입력\n",
    "decoder_input = np.array(data['decoder_input']) # 디코더의 입력\n",
    "decoder_target = np.array(data['decoder_target']) # 디코더의 레이블\n",
    "print('=3')"
   ]
  },
  {
   "cell_type": "markdown",
   "id": "copyrighted-crystal",
   "metadata": {},
   "source": [
    "#### 훈련 데이터와 테스트 데이터를 분리"
   ]
  },
  {
   "cell_type": "code",
   "execution_count": 78,
   "id": "innovative-irrigation",
   "metadata": {},
   "outputs": [
    {
     "name": "stdout",
     "output_type": "stream",
     "text": [
      "훈련 데이터의 개수 : 59282\n",
      "훈련 레이블의 개수 : 59282\n",
      "테스트 데이터의 개수 : 14820\n",
      "테스트 레이블의 개수 : 14820\n"
     ]
    }
   ],
   "source": [
    "# encoder_input과 크기, 형태가 같은 순서가 섞인 정수 시퀀스 생성\n",
    "indices = np.arange(encoder_input.shape[0])\n",
    "np.random.shuffle(indices)\n",
    "\n",
    "# 정수 시퀀스로 데이터 샘플 순서 정의하여 샘플 섞기\n",
    "encoder_input = encoder_input[indices]\n",
    "decoder_input = decoder_input[indices]\n",
    "decoder_target = decoder_target[indices]\n",
    "\n",
    "# 전체 데이터 중 20%만큼을 테스트 데이터 크기로 정의\n",
    "n_of_val = int(len(encoder_input)*0.2)\n",
    "\n",
    "# 테스트 데이터 개수를 이용해서 전체 데이터를 훈련 데이터와, 테스트 데이터로 양분\n",
    "encoder_input_train = encoder_input[:-n_of_val]\n",
    "decoder_input_train = decoder_input[:-n_of_val]\n",
    "decoder_target_train = decoder_target[:-n_of_val]\n",
    "\n",
    "encoder_input_test = encoder_input[-n_of_val:]\n",
    "decoder_input_test = decoder_input[-n_of_val:]\n",
    "decoder_target_test = decoder_target[-n_of_val:]\n",
    "\n",
    "print('훈련 데이터의 개수 :', len(encoder_input_train))\n",
    "print('훈련 레이블의 개수 :', len(decoder_input_train))\n",
    "print('테스트 데이터의 개수 :', len(encoder_input_test))\n",
    "print('테스트 레이블의 개수 :', len(decoder_input_test))"
   ]
  },
  {
   "cell_type": "markdown",
   "id": "cultural-mission",
   "metadata": {},
   "source": [
    "### 2-7 text 데이터의 encoder_input_train 단어 집합 만들기"
   ]
  },
  {
   "cell_type": "markdown",
   "id": "natural-tamil",
   "metadata": {},
   "source": [
    "#### 단어집합 생성"
   ]
  },
  {
   "cell_type": "code",
   "execution_count": 79,
   "id": "marked-sterling",
   "metadata": {},
   "outputs": [
    {
     "name": "stdout",
     "output_type": "stream",
     "text": [
      "=3\n"
     ]
    }
   ],
   "source": [
    "src_tokenizer = Tokenizer() # 토크나이저 정의\n",
    "src_tokenizer.fit_on_texts(encoder_input_train) # 입력된 데이터로부터 단어 집합 생성\n",
    "print('=3')"
   ]
  },
  {
   "cell_type": "markdown",
   "id": "handmade-lotus",
   "metadata": {},
   "source": [
    "#### 단어집합 통계정보 확인"
   ]
  },
  {
   "cell_type": "code",
   "execution_count": 80,
   "id": "incorporated-mambo",
   "metadata": {},
   "outputs": [
    {
     "name": "stdout",
     "output_type": "stream",
     "text": [
      "단어 집합(vocabulary)의 크기 : 61614\n",
      "등장 빈도가 6번 이하인 희귀 단어의 수: 42298\n",
      "단어 집합에서 희귀 단어를 제외시킬 경우의 단어 집합의 크기 19316\n",
      "단어 집합에서 희귀 단어의 비율: 68.64998214691467\n",
      "전체 등장 빈도에서 희귀 단어 등장 빈도 비율: 4.196851361554925\n"
     ]
    }
   ],
   "source": [
    "threshold = 7 # 등장 횟수 7회 미만\n",
    "total_cnt = len(src_tokenizer.word_index) # 단어의 수\n",
    "rare_cnt = 0 # 등장 빈도수가 threshold보다 작은 단어의 개수를 카운트\n",
    "total_freq = 0 # 훈련 데이터의 전체 단어 빈도수 총 합\n",
    "rare_freq = 0 # 등장 빈도수가 threshold보다 작은 단어의 등장 빈도수의 총 합\n",
    "\n",
    "# 단어와 빈도수의 쌍(pair)을 key와 value로 받는다.\n",
    "for key, value in src_tokenizer.word_counts.items():\n",
    "    total_freq = total_freq + value\n",
    "\n",
    "    # 단어의 등장 빈도수가 threshold보다 작으면\n",
    "    if(value < threshold):\n",
    "        rare_cnt = rare_cnt + 1\n",
    "        rare_freq = rare_freq + value\n",
    "\n",
    "print('단어 집합(vocabulary)의 크기 :', total_cnt)\n",
    "print('등장 빈도가 %s번 이하인 희귀 단어의 수: %s'%(threshold - 1, rare_cnt))\n",
    "print('단어 집합에서 희귀 단어를 제외시킬 경우의 단어 집합의 크기 %s'%(total_cnt - rare_cnt))\n",
    "print(\"단어 집합에서 희귀 단어의 비율:\", (rare_cnt / total_cnt)*100)\n",
    "print(\"전체 등장 빈도에서 희귀 단어 등장 빈도 비율:\", (rare_freq / total_freq)*100)"
   ]
  },
  {
   "cell_type": "markdown",
   "id": "democratic-franklin",
   "metadata": {},
   "source": [
    "#### 단어집합 크기 제한 및 정수 인코딩"
   ]
  },
  {
   "cell_type": "code",
   "execution_count": 81,
   "id": "motivated-header",
   "metadata": {},
   "outputs": [
    {
     "name": "stdout",
     "output_type": "stream",
     "text": [
      "[[3, 1421, 11324, 793, 5, 692, 27, 151, 120, 5, 19, 226, 559, 55, 25, 740, 29, 291, 270, 218, 2666, 4339, 1087, 2138, 1751, 2184, 99, 3383, 496, 1274, 11324, 776, 892], [499, 2699, 843, 6068, 8116, 2434, 7518, 88, 1827, 1987, 1425, 13, 1477, 1667, 1988, 164, 3246, 12, 2802, 499, 2815, 97, 222, 1425, 323, 1708, 1425, 6068, 6757, 12149, 4619, 8822, 15891, 1988], [1172, 3435, 12604, 63, 1732, 1259, 39, 1501, 70, 124, 279, 66, 1255, 73, 1225, 12604, 639, 3506, 1782, 2408, 149, 1261, 380, 1732, 1259, 2408, 1709, 1501, 113, 1770, 3, 861, 391]]\n"
     ]
    }
   ],
   "source": [
    "# 단어 집합의 크기를 20,000으로 제한\n",
    "src_vocab = 20000\n",
    "src_tokenizer = Tokenizer(num_words=src_vocab) \n",
    "src_tokenizer.fit_on_texts(encoder_input_train) # 단어 집합 재생성\n",
    "\n",
    "# 텍스트 시퀀스를 정수 시퀀스로 변환\n",
    "encoder_input_train = src_tokenizer.texts_to_sequences(encoder_input_train) \n",
    "encoder_input_test = src_tokenizer.texts_to_sequences(encoder_input_test)\n",
    "\n",
    "# 잘 진행되었는지 샘플 출력\n",
    "print(encoder_input_train[:3])"
   ]
  },
  {
   "cell_type": "markdown",
   "id": "sublime-ontario",
   "metadata": {},
   "source": [
    "#### decoder_input_train 단어 집합 만들기(headlines 데이터)"
   ]
  },
  {
   "cell_type": "code",
   "execution_count": 82,
   "id": "modular-watershed",
   "metadata": {},
   "outputs": [
    {
     "name": "stdout",
     "output_type": "stream",
     "text": [
      "=3\n"
     ]
    }
   ],
   "source": [
    "tar_tokenizer = Tokenizer()\n",
    "tar_tokenizer.fit_on_texts(decoder_input_train)\n",
    "print('=3')"
   ]
  },
  {
   "cell_type": "markdown",
   "id": "inclusive-revelation",
   "metadata": {},
   "source": [
    "#### 단어집합 통계정보 확인"
   ]
  },
  {
   "cell_type": "code",
   "execution_count": 83,
   "id": "practical-latest",
   "metadata": {},
   "outputs": [
    {
     "name": "stdout",
     "output_type": "stream",
     "text": [
      "단어 집합(vocabulary)의 크기 : 27241\n",
      "등장 빈도가 5번 이하인 희귀 단어의 수: 18172\n",
      "단어 집합에서 희귀 단어를 제외시킬 경우의 단어 집합의 크기 9069\n",
      "단어 집합에서 희귀 단어의 비율: 66.70827062148966\n",
      "전체 등장 빈도에서 희귀 단어 등장 빈도 비율: 5.94492472107158\n"
     ]
    }
   ],
   "source": [
    "threshold = 6 # 등장횟수 6회 미만\n",
    "total_cnt = len(tar_tokenizer.word_index) # 단어의 수\n",
    "rare_cnt = 0 # 등장 빈도수가 threshold보다 작은 단어의 개수를 카운트\n",
    "total_freq = 0 # 훈련 데이터의 전체 단어 빈도수 총 합\n",
    "rare_freq = 0 # 등장 빈도수가 threshold보다 작은 단어의 등장 빈도수의 총 합\n",
    "\n",
    "# 단어와 빈도수의 쌍(pair)을 key와 value로 받는다.\n",
    "for key, value in tar_tokenizer.word_counts.items():\n",
    "    total_freq = total_freq + value\n",
    "\n",
    "    # 단어의 등장 빈도수가 threshold보다 작으면\n",
    "    if(value < threshold):\n",
    "        rare_cnt = rare_cnt + 1\n",
    "        rare_freq = rare_freq + value\n",
    "\n",
    "print('단어 집합(vocabulary)의 크기 :', total_cnt)\n",
    "print('등장 빈도가 %s번 이하인 희귀 단어의 수: %s'%(threshold - 1, rare_cnt))\n",
    "print('단어 집합에서 희귀 단어를 제외시킬 경우의 단어 집합의 크기 %s'%(total_cnt - rare_cnt))\n",
    "print(\"단어 집합에서 희귀 단어의 비율:\", (rare_cnt / total_cnt)*100)\n",
    "print(\"전체 등장 빈도에서 희귀 단어 등장 빈도 비율:\", (rare_freq / total_freq)*100)"
   ]
  },
  {
   "cell_type": "markdown",
   "id": "industrial-drama",
   "metadata": {},
   "source": [
    "#### 단어집합 크기 제한 및 정수 인코딩"
   ]
  },
  {
   "cell_type": "code",
   "execution_count": 84,
   "id": "superior-whale",
   "metadata": {},
   "outputs": [
    {
     "name": "stdout",
     "output_type": "stream",
     "text": [
      "input\n",
      "input  [[1, 9, 3, 1094, 658, 8, 14, 333], [1, 67, 725, 4661, 26, 725, 2530, 949, 213], [1, 1930, 748, 42, 6973, 2666, 7, 4, 44], [1, 1432, 3, 4126, 950, 11, 2667, 10, 53], [1, 6974, 4, 110, 7523, 13, 293, 6140, 6975]]\n",
      "target\n",
      "decoder  [[9, 3, 1094, 658, 8, 14, 333, 2], [67, 725, 4661, 26, 725, 2530, 949, 213, 2], [1930, 748, 42, 6973, 2666, 7, 4, 44, 2], [1432, 3, 4126, 950, 11, 2667, 10, 53, 2], [6974, 4, 110, 7523, 13, 293, 6140, 6975, 2]]\n"
     ]
    }
   ],
   "source": [
    "# 단어 집합의 크기를 9,000으로 제한\n",
    "tar_vocab = 9000\n",
    "tar_tokenizer = Tokenizer(num_words=tar_vocab) \n",
    "tar_tokenizer.fit_on_texts(decoder_input_train)\n",
    "tar_tokenizer.fit_on_texts(decoder_target_train)\n",
    "\n",
    "# 텍스트 시퀀스를 정수 시퀀스로 변환\n",
    "decoder_input_train = tar_tokenizer.texts_to_sequences(decoder_input_train) \n",
    "decoder_target_train = tar_tokenizer.texts_to_sequences(decoder_target_train)\n",
    "decoder_input_test = tar_tokenizer.texts_to_sequences(decoder_input_test)\n",
    "decoder_target_test = tar_tokenizer.texts_to_sequences(decoder_target_test)\n",
    "\n",
    "# 잘 변환되었는지 확인\n",
    "print('input')\n",
    "print('input ',decoder_input_train[:5])\n",
    "print('target')\n",
    "print('decoder ',decoder_target_train[:5])"
   ]
  },
  {
   "cell_type": "markdown",
   "id": "painful-degree",
   "metadata": {},
   "source": [
    "#### hedlines 길이가 0이 된 샘플들 제거"
   ]
  },
  {
   "cell_type": "code",
   "execution_count": 85,
   "id": "considered-homeless",
   "metadata": {},
   "outputs": [
    {
     "name": "stdout",
     "output_type": "stream",
     "text": [
      "삭제할 훈련 데이터의 개수 : 0\n",
      "삭제할 테스트 데이터의 개수 : 0\n",
      "훈련 데이터의 개수 : 59282\n",
      "훈련 레이블의 개수 : 59282\n",
      "테스트 데이터의 개수 : 14820\n"
     ]
    },
    {
     "name": "stderr",
     "output_type": "stream",
     "text": [
      "/opt/conda/lib/python3.7/site-packages/numpy/core/_asarray.py:83: VisibleDeprecationWarning: Creating an ndarray from ragged nested sequences (which is a list-or-tuple of lists-or-tuples-or ndarrays with different lengths or shapes) is deprecated. If you meant to do this, you must specify 'dtype=object' when creating the ndarray\n",
      "  return array(a, dtype, copy=False, order=order)\n"
     ]
    }
   ],
   "source": [
    "drop_train = [index for index, sentence in enumerate(decoder_input_train) if len(sentence) == 1]\n",
    "drop_test = [index for index, sentence in enumerate(decoder_input_test) if len(sentence) == 1]\n",
    "\n",
    "print('삭제할 훈련 데이터의 개수 :', len(drop_train))\n",
    "print('삭제할 테스트 데이터의 개수 :', len(drop_test))\n",
    "\n",
    "encoder_input_train = np.delete(encoder_input_train, drop_train, axis=0)\n",
    "decoder_input_train = np.delete(decoder_input_train, drop_train, axis=0)\n",
    "decoder_target_train = np.delete(decoder_target_train, drop_train, axis=0)\n",
    "\n",
    "encoder_input_test = np.delete(encoder_input_test, drop_test, axis=0)\n",
    "decoder_input_test = np.delete(decoder_input_test, drop_test, axis=0)\n",
    "decoder_target_test = np.delete(decoder_target_test, drop_test, axis=0)\n",
    "\n",
    "print('훈련 데이터의 개수 :', len(encoder_input_train))\n",
    "print('훈련 레이블의 개수 :', len(decoder_input_train))\n",
    "print('테스트 데이터의 개수 :', len(encoder_input_test))"
   ]
  },
  {
   "cell_type": "markdown",
   "id": "mental-holocaust",
   "metadata": {},
   "source": [
    "### 2-8 패딩하기"
   ]
  },
  {
   "cell_type": "code",
   "execution_count": 86,
   "id": "removable-temperature",
   "metadata": {},
   "outputs": [
    {
     "name": "stdout",
     "output_type": "stream",
     "text": [
      "=3\n"
     ]
    }
   ],
   "source": [
    "encoder_input_train = pad_sequences(encoder_input_train, maxlen=text_max_len, padding='post')\n",
    "encoder_input_test = pad_sequences(encoder_input_test, maxlen=text_max_len, padding='post')\n",
    "decoder_input_train = pad_sequences(decoder_input_train, maxlen=headlines_max_len, padding='post')\n",
    "decoder_target_train = pad_sequences(decoder_target_train, maxlen=headlines_max_len, padding='post')\n",
    "decoder_input_test = pad_sequences(decoder_input_test, maxlen=headlines_max_len, padding='post')\n",
    "decoder_target_test = pad_sequences(decoder_target_test, maxlen=headlines_max_len, padding='post')\n",
    "print('=3')"
   ]
  },
  {
   "cell_type": "markdown",
   "id": "equivalent-sharing",
   "metadata": {},
   "source": [
    "## Step 3. 어텐션 메커니즘 사용하기(추상적 요약)"
   ]
  },
  {
   "cell_type": "markdown",
   "id": "romantic-capture",
   "metadata": {},
   "source": [
    "### 3-1 함수형 API를 이용해 인코더 설계"
   ]
  },
  {
   "cell_type": "code",
   "execution_count": 96,
   "id": "diverse-facing",
   "metadata": {},
   "outputs": [
    {
     "name": "stdout",
     "output_type": "stream",
     "text": [
      "WARNING:tensorflow:Layer lstm_12 will not use cuDNN kernel since it doesn't meet the cuDNN kernel criteria. It will use generic GPU kernel as fallback when running on GPU\n",
      "WARNING:tensorflow:Layer lstm_13 will not use cuDNN kernel since it doesn't meet the cuDNN kernel criteria. It will use generic GPU kernel as fallback when running on GPU\n",
      "WARNING:tensorflow:Layer lstm_14 will not use cuDNN kernel since it doesn't meet the cuDNN kernel criteria. It will use generic GPU kernel as fallback when running on GPU\n"
     ]
    }
   ],
   "source": [
    "from tensorflow.keras.layers import Input, LSTM, Embedding, Dense, Concatenate\n",
    "from tensorflow.keras.models import Model\n",
    "from tensorflow.keras.callbacks import EarlyStopping, ModelCheckpoint\n",
    "\n",
    "\n",
    "# 인코더 설계 시작\n",
    "embedding_dim = 128\n",
    "hidden_size = 256\n",
    "\n",
    "# 인코더\n",
    "encoder_inputs = Input(shape=(text_max_len,))\n",
    "\n",
    "# 인코더의 임베딩 층\n",
    "enc_emb = Embedding(src_vocab, embedding_dim)(encoder_inputs)\n",
    "\n",
    "# 인코더의 LSTM 1\n",
    "encoder_lstm1 = LSTM(hidden_size, return_sequences=True, return_state=True ,dropout = 0.4, recurrent_dropout = 0.4)\n",
    "encoder_output1, state_h1, state_c1 = encoder_lstm1(enc_emb)\n",
    "# 인코더의 LSTM 2\n",
    "encoder_lstm2 = LSTM(hidden_size, return_sequences=True, return_state=True, dropout=0.4, recurrent_dropout=0.4)\n",
    "encoder_output2, state_h2, state_c2 = encoder_lstm2(encoder_output1)\n",
    "\n",
    "# 인코더의 LSTM 3\n",
    "encoder_lstm3 = LSTM(hidden_size, return_state=True, return_sequences=True, dropout=0.4, recurrent_dropout=0.4)\n",
    "encoder_outputs, state_h, state_c= encoder_lstm3(encoder_output2)"
   ]
  },
  {
   "cell_type": "markdown",
   "id": "bearing-limit",
   "metadata": {},
   "source": [
    "### 3-2 디코더 설계"
   ]
  },
  {
   "cell_type": "code",
   "execution_count": 99,
   "id": "periodic-isolation",
   "metadata": {},
   "outputs": [
    {
     "name": "stdout",
     "output_type": "stream",
     "text": [
      "WARNING:tensorflow:Layer lstm_16 will not use cuDNN kernel since it doesn't meet the cuDNN kernel criteria. It will use generic GPU kernel as fallback when running on GPU\n"
     ]
    }
   ],
   "source": [
    "# 디코더 설계\n",
    "decoder_inputs = Input(shape=(None,))\n",
    "\n",
    "# 디코더의 임베딩 층\n",
    "dec_emb_layer = Embedding(tar_vocab, embedding_dim)\n",
    "dec_emb = dec_emb_layer(decoder_inputs)\n",
    "\n",
    "# 디코더의 LSTM\n",
    "decoder_lstm = LSTM(hidden_size, return_sequences=True, return_state=True, dropout=0.4, recurrent_dropout=0.2)\n",
    "decoder_outputs, _, _ = decoder_lstm(dec_emb, initial_state=[state_h, state_c])\n",
    "\n",
    "# 디코더의 출력층\n",
    "decoder_softmax_layer = Dense(tar_vocab, activation='softmax')\n",
    "decoder_softmax_outputs = decoder_softmax_layer(decoder_outputs)"
   ]
  },
  {
   "cell_type": "markdown",
   "id": "difficult-financing",
   "metadata": {},
   "source": [
    "### 3-3 모델 정의"
   ]
  },
  {
   "cell_type": "code",
   "execution_count": 100,
   "id": "average-beatles",
   "metadata": {},
   "outputs": [
    {
     "name": "stdout",
     "output_type": "stream",
     "text": [
      "Model: \"model\"\n",
      "__________________________________________________________________________________________________\n",
      "Layer (type)                    Output Shape         Param #     Connected to                     \n",
      "==================================================================================================\n",
      "input_7 (InputLayer)            [(None, 40)]         0                                            \n",
      "__________________________________________________________________________________________________\n",
      "embedding_6 (Embedding)         (None, 40, 128)      2560000     input_7[0][0]                    \n",
      "__________________________________________________________________________________________________\n",
      "lstm_12 (LSTM)                  [(None, 40, 256), (N 394240      embedding_6[0][0]                \n",
      "__________________________________________________________________________________________________\n",
      "input_9 (InputLayer)            [(None, None)]       0                                            \n",
      "__________________________________________________________________________________________________\n",
      "lstm_13 (LSTM)                  [(None, 40, 256), (N 525312      lstm_12[0][0]                    \n",
      "__________________________________________________________________________________________________\n",
      "embedding_8 (Embedding)         (None, None, 128)    1152000     input_9[0][0]                    \n",
      "__________________________________________________________________________________________________\n",
      "lstm_14 (LSTM)                  [(None, 40, 256), (N 525312      lstm_13[0][0]                    \n",
      "__________________________________________________________________________________________________\n",
      "lstm_16 (LSTM)                  [(None, None, 256),  394240      embedding_8[0][0]                \n",
      "                                                                 lstm_14[0][1]                    \n",
      "                                                                 lstm_14[0][2]                    \n",
      "__________________________________________________________________________________________________\n",
      "dense_4 (Dense)                 (None, None, 9000)   2313000     lstm_16[0][0]                    \n",
      "==================================================================================================\n",
      "Total params: 7,864,104\n",
      "Trainable params: 7,864,104\n",
      "Non-trainable params: 0\n",
      "__________________________________________________________________________________________________\n"
     ]
    }
   ],
   "source": [
    "model = Model([encoder_inputs, decoder_inputs], decoder_softmax_outputs)\n",
    "model.summary()"
   ]
  },
  {
   "cell_type": "markdown",
   "id": "rural-precipitation",
   "metadata": {},
   "source": [
    "### 3-4 어텐션 함수 다운로드"
   ]
  },
  {
   "cell_type": "code",
   "execution_count": 101,
   "id": "functioning-wyoming",
   "metadata": {},
   "outputs": [],
   "source": [
    "urllib.request.urlretrieve(\"https://raw.githubusercontent.com/thushv89/attention_keras/master/src/layers/attention.py\", filename=\"attention.py\")\n",
    "from attention import AttentionLayer"
   ]
  },
  {
   "cell_type": "markdown",
   "id": "negative-surgeon",
   "metadata": {},
   "source": [
    "### 3-5 어텐션 함수를 이용해 설계한 디코더의 출력층 수정 및 모델 재정의"
   ]
  },
  {
   "cell_type": "code",
   "execution_count": 102,
   "id": "addressed-dependence",
   "metadata": {},
   "outputs": [
    {
     "name": "stdout",
     "output_type": "stream",
     "text": [
      "Model: \"model_1\"\n",
      "__________________________________________________________________________________________________\n",
      "Layer (type)                    Output Shape         Param #     Connected to                     \n",
      "==================================================================================================\n",
      "input_7 (InputLayer)            [(None, 40)]         0                                            \n",
      "__________________________________________________________________________________________________\n",
      "embedding_6 (Embedding)         (None, 40, 128)      2560000     input_7[0][0]                    \n",
      "__________________________________________________________________________________________________\n",
      "lstm_12 (LSTM)                  [(None, 40, 256), (N 394240      embedding_6[0][0]                \n",
      "__________________________________________________________________________________________________\n",
      "input_9 (InputLayer)            [(None, None)]       0                                            \n",
      "__________________________________________________________________________________________________\n",
      "lstm_13 (LSTM)                  [(None, 40, 256), (N 525312      lstm_12[0][0]                    \n",
      "__________________________________________________________________________________________________\n",
      "embedding_8 (Embedding)         (None, None, 128)    1152000     input_9[0][0]                    \n",
      "__________________________________________________________________________________________________\n",
      "lstm_14 (LSTM)                  [(None, 40, 256), (N 525312      lstm_13[0][0]                    \n",
      "__________________________________________________________________________________________________\n",
      "lstm_16 (LSTM)                  [(None, None, 256),  394240      embedding_8[0][0]                \n",
      "                                                                 lstm_14[0][1]                    \n",
      "                                                                 lstm_14[0][2]                    \n",
      "__________________________________________________________________________________________________\n",
      "attention_layer (AttentionLayer ((None, None, 256),  131328      lstm_14[0][0]                    \n",
      "                                                                 lstm_16[0][0]                    \n",
      "__________________________________________________________________________________________________\n",
      "concat_layer (Concatenate)      (None, None, 512)    0           lstm_16[0][0]                    \n",
      "                                                                 attention_layer[0][0]            \n",
      "__________________________________________________________________________________________________\n",
      "dense_5 (Dense)                 (None, None, 9000)   4617000     concat_layer[0][0]               \n",
      "==================================================================================================\n",
      "Total params: 10,299,432\n",
      "Trainable params: 10,299,432\n",
      "Non-trainable params: 0\n",
      "__________________________________________________________________________________________________\n"
     ]
    }
   ],
   "source": [
    "# 어텐션 층(어텐션 함수)\n",
    "attn_layer = AttentionLayer(name='attention_layer')\n",
    "\n",
    "# 인코더와 디코더의 모든 time step의 hidden state를 어텐션 층에 전달하고 결과를 리턴\n",
    "attn_out, attn_states = attn_layer([encoder_outputs, decoder_outputs])\n",
    "\n",
    "# 어텐션의 결과와 디코더의 hidden state들을 연결\n",
    "decoder_concat_input = Concatenate(axis=-1, name='concat_layer')([decoder_outputs, attn_out])\n",
    "\n",
    "# 디코더의 출력층\n",
    "decoder_softmax_layer = Dense(tar_vocab, activation='softmax')\n",
    "decoder_softmax_outputs = decoder_softmax_layer(decoder_concat_input)\n",
    "\n",
    "# 모델 정의\n",
    "model = Model([encoder_inputs, decoder_inputs], decoder_softmax_outputs)\n",
    "model.summary()"
   ]
  },
  {
   "cell_type": "markdown",
   "id": "shared-meaning",
   "metadata": {},
   "source": [
    "### 3-6 모델 훈련하기"
   ]
  },
  {
   "cell_type": "code",
   "execution_count": 103,
   "id": "spread-riverside",
   "metadata": {},
   "outputs": [
    {
     "name": "stdout",
     "output_type": "stream",
     "text": [
      "Epoch 1/50\n",
      "232/232 [==============================] - 166s 664ms/step - loss: 6.6582 - val_loss: 5.8785\n",
      "Epoch 2/50\n",
      "232/232 [==============================] - 153s 661ms/step - loss: 5.8443 - val_loss: 5.5491\n",
      "Epoch 3/50\n",
      "232/232 [==============================] - 153s 660ms/step - loss: 5.4734 - val_loss: 5.2526\n",
      "Epoch 4/50\n",
      "232/232 [==============================] - 153s 660ms/step - loss: 5.1742 - val_loss: 5.0264\n",
      "Epoch 5/50\n",
      "232/232 [==============================] - 153s 659ms/step - loss: 4.9168 - val_loss: 4.8574\n",
      "Epoch 6/50\n",
      "232/232 [==============================] - 153s 661ms/step - loss: 4.6879 - val_loss: 4.7116\n",
      "Epoch 7/50\n",
      "232/232 [==============================] - 153s 660ms/step - loss: 4.5072 - val_loss: 4.6011\n",
      "Epoch 8/50\n",
      "232/232 [==============================] - 153s 659ms/step - loss: 4.3370 - val_loss: 4.5192\n",
      "Epoch 9/50\n",
      "232/232 [==============================] - 153s 659ms/step - loss: 4.2070 - val_loss: 4.4462\n",
      "Epoch 10/50\n",
      "232/232 [==============================] - 153s 661ms/step - loss: 4.0693 - val_loss: 4.3891\n",
      "Epoch 11/50\n",
      "232/232 [==============================] - 153s 661ms/step - loss: 3.9496 - val_loss: 4.3425\n",
      "Epoch 12/50\n",
      "232/232 [==============================] - 153s 659ms/step - loss: 3.8471 - val_loss: 4.3235\n",
      "Epoch 13/50\n",
      "232/232 [==============================] - 153s 659ms/step - loss: 3.7513 - val_loss: 4.2686\n",
      "Epoch 14/50\n",
      "232/232 [==============================] - 153s 661ms/step - loss: 3.6629 - val_loss: 4.2410\n",
      "Epoch 15/50\n",
      "232/232 [==============================] - 153s 661ms/step - loss: 3.5786 - val_loss: 4.2309\n",
      "Epoch 16/50\n",
      "232/232 [==============================] - 153s 659ms/step - loss: 3.5002 - val_loss: 4.2037\n",
      "Epoch 17/50\n",
      "232/232 [==============================] - 153s 660ms/step - loss: 3.4262 - val_loss: 4.1813\n",
      "Epoch 18/50\n",
      "232/232 [==============================] - 154s 662ms/step - loss: 3.3675 - val_loss: 4.1675\n",
      "Epoch 19/50\n",
      "232/232 [==============================] - 153s 661ms/step - loss: 3.3000 - val_loss: 4.1595\n",
      "Epoch 20/50\n",
      "232/232 [==============================] - 153s 659ms/step - loss: 3.2416 - val_loss: 4.1541\n",
      "Epoch 21/50\n",
      "232/232 [==============================] - 153s 660ms/step - loss: 3.1777 - val_loss: 4.1477\n",
      "Epoch 22/50\n",
      "232/232 [==============================] - 154s 662ms/step - loss: 3.1232 - val_loss: 4.1401\n",
      "Epoch 23/50\n",
      "232/232 [==============================] - 153s 662ms/step - loss: 3.0721 - val_loss: 4.1387\n",
      "Epoch 24/50\n",
      "232/232 [==============================] - 153s 659ms/step - loss: 3.0333 - val_loss: 4.1375\n",
      "Epoch 25/50\n",
      "232/232 [==============================] - 153s 660ms/step - loss: 2.9777 - val_loss: 4.1296\n",
      "Epoch 26/50\n",
      "232/232 [==============================] - 154s 662ms/step - loss: 2.9424 - val_loss: 4.1257\n",
      "Epoch 27/50\n",
      "232/232 [==============================] - 153s 661ms/step - loss: 2.8962 - val_loss: 4.1282\n",
      "Epoch 28/50\n",
      "232/232 [==============================] - 153s 659ms/step - loss: 2.8521 - val_loss: 4.1351\n",
      "Epoch 00028: early stopping\n"
     ]
    }
   ],
   "source": [
    "model.compile(optimizer='rmsprop', loss='sparse_categorical_crossentropy')\n",
    "es = EarlyStopping(monitor='val_loss', patience=2, verbose=1)  # 검증 데이터의 손실이 줄어들지 않고 증가하는 현상이 2회(patience=2) 관측되면 학습을 멈춤\n",
    "history = model.fit(x=[encoder_input_train, decoder_input_train], y=decoder_target_train, \\\n",
    "          validation_data=([encoder_input_test, decoder_input_test], decoder_target_test), \\\n",
    "          batch_size=256, callbacks=[es], epochs=50)"
   ]
  },
  {
   "cell_type": "markdown",
   "id": "homeless-faith",
   "metadata": {},
   "source": [
    "### 3-7 데이터 훈련 시작화"
   ]
  },
  {
   "cell_type": "code",
   "execution_count": 104,
   "id": "structural-pierce",
   "metadata": {},
   "outputs": [
    {
     "data": {
      "image/png": "[encoded data removed]",
      "text/plain": [
       "<Figure size 432x288 with 1 Axes>"
      ]
     },
     "metadata": {
      "needs_background": "light"
     },
     "output_type": "display_data"
    }
   ],
   "source": [
    "plt.plot(history.history['loss'], label='train')\n",
    "plt.plot(history.history['val_loss'], label='test')\n",
    "plt.legend()\n",
    "plt.show()"
   ]
  },
  {
   "cell_type": "markdown",
   "id": "corrected-might",
   "metadata": {},
   "source": [
    "## Step 4. 실제 결과와 요약문 비교하기(추상적 요약)"
   ]
  },
  {
   "cell_type": "markdown",
   "id": "american-resolution",
   "metadata": {},
   "source": [
    "### 4-1 정수 인덱스 행렬을 실제 데이터로 복원하기 위한 3개의 사전 준비"
   ]
  },
  {
   "cell_type": "code",
   "execution_count": 105,
   "id": "intelligent-charleston",
   "metadata": {},
   "outputs": [],
   "source": [
    "src_index_to_word = src_tokenizer.index_word # 원문 단어 집합에서 정수 -> 단어를 얻음\n",
    "tar_word_to_index = tar_tokenizer.word_index # 요약 단어 집합에서 단어 -> 정수를 얻음\n",
    "tar_index_to_word = tar_tokenizer.index_word # 요약 단어 집합에서 정수 -> 단어를 얻음"
   ]
  },
  {
   "cell_type": "markdown",
   "id": "reliable-indian",
   "metadata": {},
   "source": [
    "### 4-2 인퍼런스(실전 요약)를 위한 모델 설계"
   ]
  },
  {
   "cell_type": "code",
   "execution_count": 106,
   "id": "electrical-mixture",
   "metadata": {},
   "outputs": [],
   "source": [
    "# 인코더 설계\n",
    "encoder_model = Model(inputs=encoder_inputs, outputs=[encoder_outputs, state_h, state_c])\n",
    "\n",
    "# 이전 시점의 상태들을 저장하는 텐서\n",
    "decoder_state_input_h = Input(shape=(hidden_size,))\n",
    "decoder_state_input_c = Input(shape=(hidden_size,))\n",
    "\n",
    "dec_emb2 = dec_emb_layer(decoder_inputs)\n",
    "\n",
    "# 문장의 다음 단어를 예측하기 위해서 초기 상태(initial_state)를 이전 시점의 상태로 사용. 이는 뒤의 함수 decode_sequence()에 구현\n",
    "# 훈련 과정에서와 달리 LSTM의 리턴하는 은닉 상태와 셀 상태인 state_h와 state_c를 버리지 않음.\n",
    "decoder_outputs2, state_h2, state_c2 = decoder_lstm(dec_emb2, initial_state=[decoder_state_input_h, decoder_state_input_c])"
   ]
  },
  {
   "cell_type": "markdown",
   "id": "political-involvement",
   "metadata": {},
   "source": [
    "### 4-3 어텐션 메커니즘을 사용하는 출력층 설계"
   ]
  },
  {
   "cell_type": "code",
   "execution_count": 107,
   "id": "single-shuttle",
   "metadata": {},
   "outputs": [],
   "source": [
    "# 어텐션 함수\n",
    "decoder_hidden_state_input = Input(shape=(text_max_len, hidden_size))\n",
    "attn_out_inf, attn_states_inf = attn_layer([decoder_hidden_state_input, decoder_outputs2])\n",
    "decoder_inf_concat = Concatenate(axis=-1, name='concat')([decoder_outputs2, attn_out_inf])\n",
    "\n",
    "# 디코더의 출력층\n",
    "decoder_outputs2 = decoder_softmax_layer(decoder_inf_concat) \n",
    "\n",
    "# 최종 디코더 모델\n",
    "decoder_model = Model(\n",
    "    [decoder_inputs] + [decoder_hidden_state_input,decoder_state_input_h, decoder_state_input_c],\n",
    "    [decoder_outputs2] + [state_h2, state_c2])"
   ]
  },
  {
   "cell_type": "markdown",
   "id": "improved-thumbnail",
   "metadata": {},
   "source": [
    "### 4-4 인퍼런스 단계에서 단어 시퀀스를 완성하는 함수 생성"
   ]
  },
  {
   "cell_type": "code",
   "execution_count": 108,
   "id": "material-dryer",
   "metadata": {},
   "outputs": [],
   "source": [
    "def decode_sequence(input_seq):\n",
    "    # 입력으로부터 인코더의 상태를 얻음\n",
    "    e_out, e_h, e_c = encoder_model.predict(input_seq)\n",
    "\n",
    "     # <SOS>에 해당하는 토큰 생성\n",
    "    target_seq = np.zeros((1,1))\n",
    "    target_seq[0, 0] = tar_word_to_index['sostoken']\n",
    "\n",
    "    stop_condition = False\n",
    "    decoded_sentence = ''\n",
    "    while not stop_condition: # stop_condition이 True가 될 때까지 루프 반복\n",
    "\n",
    "        output_tokens, h, c = decoder_model.predict([target_seq] + [e_out, e_h, e_c])\n",
    "        sampled_token_index = np.argmax(output_tokens[0, -1, :])\n",
    "        sampled_token = tar_index_to_word[sampled_token_index]\n",
    "\n",
    "        if (sampled_token!='eostoken'):\n",
    "            decoded_sentence += ' '+sampled_token\n",
    "\n",
    "        #  <eos>에 도달하거나 최대 길이를 넘으면 중단.\n",
    "        if (sampled_token == 'eostoken'  or len(decoded_sentence.split()) >= (headlines_max_len-1)):\n",
    "            stop_condition = True\n",
    "\n",
    "        # 길이가 1인 타겟 시퀀스를 업데이트\n",
    "        target_seq = np.zeros((1,1))\n",
    "        target_seq[0, 0] = sampled_token_index\n",
    "\n",
    "        # 상태를 업데이트 합니다.\n",
    "        e_h, e_c = h, c\n",
    "\n",
    "    return decoded_sentence"
   ]
  },
  {
   "cell_type": "markdown",
   "id": "palestinian-maine",
   "metadata": {},
   "source": [
    "### 4-5 정수 시퀀스를 텍스트 시퀀스로 변환하는 함수 생성"
   ]
  },
  {
   "cell_type": "code",
   "execution_count": 109,
   "id": "extreme-blanket",
   "metadata": {},
   "outputs": [],
   "source": [
    "# 원문의 정수 시퀀스를 텍스트 시퀀스로 변환\n",
    "def seq2text(input_seq):\n",
    "    temp=''\n",
    "    for i in input_seq:\n",
    "        if (i!=0):\n",
    "            temp = temp + src_index_to_word[i]+' '\n",
    "    return temp\n",
    "\n",
    "# 요약문의 정수 시퀀스를 텍스트 시퀀스로 변환\n",
    "def seq2headlines(input_seq):\n",
    "    temp=''\n",
    "    for i in input_seq:\n",
    "        if ((i!=0 and i!=tar_word_to_index['sostoken']) and i!=tar_word_to_index['eostoken']):\n",
    "            temp = temp + tar_index_to_word[i] + ' '\n",
    "    return temp"
   ]
  },
  {
   "cell_type": "markdown",
   "id": "aquatic-interface",
   "metadata": {},
   "source": [
    "### 4-6 실제 headlines과 예측된 추상적 요약 비교"
   ]
  },
  {
   "cell_type": "code",
   "execution_count": 110,
   "id": "criminal-organizer",
   "metadata": {},
   "outputs": [
    {
     "name": "stdout",
     "output_type": "stream",
     "text": [
      "<원문> : average salary australian women footballers set double new pay deal football federation australia new two year deal team top footballers expected earn notably australian women national team inaugural edition tournament nations last month \n",
      "[실제 요약] : australian women football team salary to be doubled \n",
      "[예측 요약] :  indian women team to be paid for women\n",
      "\n",
      "\n",
      "<원문> : dera sacha sauda supporters police custody friday claimed honeypreet insan august panchkula violence sanctioned crore gurmeet ram rahim conviction reportedly honeypreet chaired meeting regard august attended ram rahim secretary dera security officer later arrested police \n",
      "[실제 요약] : honeypreet panchkula violence dera supporters \n",
      "[예측 요약] :  dera accused of ram rahim released\n",
      "\n",
      "\n",
      "<원문> : budget printed north block basement delhi hundred officials locked week social interaction till finance minister presents budget single phone available families officials leave messages electronic installed ensuring information leaked using mobile phones \n",
      "[실제 요약] : how is the union budget kept secret before being presented \n",
      "[예측 요약] :  govt to set up to protect gold from april\n",
      "\n",
      "\n",
      "<원문> : income tax department reportedly unearthed undisclosed income amounting crore fiscal compared crore income detected verification cases non pan data foreign account tax compliance act common reporting standard data cases increased three times cases \n",
      "[실제 요약] : dept detects cr undisclosed income during fy \n",
      "[예측 요약] :  dept seizes crore income tax evasion in delhi\n",
      "\n",
      "\n",
      "<원문> : karan johar opening controversy hardik pandya kl rahul comments women koffee karan said sleepless nights wondering damage feel responsible show added johar said control answers come way show \n",
      "[실제 요약] : feel responsible had nights karan on pandya rahul row \n",
      "[예측 요약] :  ranbir is ranbir on nepotism\n",
      "\n",
      "\n",
      "<원문> : royal title prince philip husband britain queen elizabeth ii long words titles honours earned prince gifted titles combination two year old prince retire public duties autumn \n",
      "[실제 요약] : prince philip full royal title is words long \n",
      "[예측 요약] :  prince charles queen elizabeth wins queen in uk\n",
      "\n",
      "\n",
      "<원문> : two saudi sisters whose bodies found taped together shore river new york last year committed suicide city medical examiner said lived family virginia ending shelter alleged abuse reportedly said would rather harm return saudi arabia \n",
      "[실제 요약] : saudi sisters found dead in us committed suicide official \n",
      "[예측 요약] :  inmates found in mass death in maharashtra\n",
      "\n",
      "\n",
      "<원문> : us defence secretary james mattis said friday country pursuing policy regime change collapse iran added us wanted change iran behaviour middle east counter threats us iran escalated us withdrew iran nuclear deal \n",
      "[실제 요약] : not collapse of the iranian regime us \n",
      "[예측 요약] :  us does not mean iran general secy\n",
      "\n",
      "\n",
      "<원문> : indian pal became first indian woman reach summit mount everest may expedition included total six female continued climb made summit honoured padma shri arjuna award \n",
      "[실제 요약] : yrs since became st indian woman at everest \n",
      "[예측 요약] :  st indian woman to scale everest\n",
      "\n",
      "\n",
      "<원문> : reliance jio low price scheme prime driving demand connections gained ubs securities asia said surprised see lack acceleration march since jio prime offer announced month added airtel continues hold firm market key operating metrics peers added \n",
      "[실제 요약] : reliance jio prime scheme is not driving demand report \n",
      "[예측 요약] :  jio starts complaint against reliance jio\n",
      "\n",
      "\n",
      "<원문> : world wide web creator tim berners lee said fact power among companies made possible web scale added recent years conspiracy theories social media platforms also pointed fake social media accounts causing social tensions personal data stolen \n",
      "[실제 요약] : of power the web creator \n",
      "[예측 요약] :  world biggest solve web web series on joining\n",
      "\n",
      "\n",
      "<원문> : army jawan allegedly shot dead man market area uttar pradesh bareilly confronted sexual harassment colleague wife accused brother reportedly passed lewd comments wife grocery shopping committing crime accused surrendered police \n",
      "[실제 요약] : jawan shot dead for opposing harassment of colleague wife \n",
      "[예측 요약] :  army jawan shot dead by jawan in up\n",
      "\n",
      "\n",
      "<원문> : several outfits led hindu organisation held protest gurugram demanding authorities provide permission reading namaz areas population muslim alleged men read namaz vacant plots order illegally occupy also sought withdrawal case six people disrupting namaz \n",
      "[실제 요약] : allow namaz only where are muslims gurugram protestors \n",
      "[예측 요약] :  protest against hindu women protest against hindu women\n",
      "\n",
      "\n",
      "<원문> : reddy computer science graduate iit hyderabad bagged annual salary package crore google said highest package received iit hyderabad student since institute established selected google google intelligence project \n",
      "[실제 요약] : iit hyderabad student to earn crore per year at google \n",
      "[예측 요약] :  iit bombay to get cr for cr\n",
      "\n",
      "\n",
      "<원문> : ex world number one women tennis player monica stabbed court match bulgaria april germany year old attacked back nine inch blade obsessed rival returned professional tennis two years \n",
      "[실제 요약] : ex world no tennis player was once stabbed during match \n",
      "[예측 요약] :  tennis player shot dead in london\n",
      "\n",
      "\n"
     ]
    }
   ],
   "source": [
    "for i in range(15):\n",
    "    print(\"<원문> :\", seq2text(encoder_input_test[i]))\n",
    "    print(\"[실제 요약] :\", seq2headlines(decoder_input_test[i]))\n",
    "    print(\"[예측 요약] :\", decode_sequence(encoder_input_test[i].reshape(1, text_max_len)))\n",
    "    print(\"\\n\")"
   ]
  },
  {
   "cell_type": "markdown",
   "id": "rising-phrase",
   "metadata": {},
   "source": [
    "## Step 5. Summa을 이용해서 추출적 요약해보기"
   ]
  },
  {
   "cell_type": "markdown",
   "id": "soviet-guitar",
   "metadata": {},
   "source": [
    "### 5-1 데이터 다운로드"
   ]
  },
  {
   "cell_type": "code",
   "execution_count": 111,
   "id": "original-armor",
   "metadata": {},
   "outputs": [],
   "source": [
    "import requests\n",
    "from summa.summarizer import summarize\n",
    "\n",
    "\n",
    "data = pd.read_csv('news_summary_more.csv', encoding='iso-8859-1')"
   ]
  },
  {
   "cell_type": "markdown",
   "id": "expressed-savannah",
   "metadata": {},
   "source": [
    "## 5-2 실제 headlines과 추출적 요약 비교"
   ]
  },
  {
   "cell_type": "code",
   "execution_count": 114,
   "id": "reported-revision",
   "metadata": {},
   "outputs": [
    {
     "name": "stdout",
     "output_type": "stream",
     "text": [
      "<원문> : Saurav Kant, an alumnus of upGrad and IIIT-B's PG Program in Machine learning and Artificial Intelligence, was a Sr Systems Engineer at Infosys with almost 5 years of work experience. The program and upGrad's 360-degree career support helped him transition to a Data Scientist at Tech Mahindra with 90% salary hike. upGrad's Online Power Learning has powered 3 lakh+ careers.\n",
      "실제 headline :  upGrad learner switches to career in ML & Al with 90% salary hike\n",
      "추출적 요약 headline :  upGrad's Online Power Learning has powered 3 lakh+ careers.\n",
      "\n",
      "\n",
      "<원문> : Kunal Shah's credit card bill payment platform, CRED, gave users a chance to win free food from Swiggy for one year. Pranav Kaushik, a Delhi techie, bagged this reward after spending 2000 CRED coins. Users get one CRED coin per rupee of bill paid, which can be used to avail rewards from brands like Ixigo, BookMyShow, UberEats, Cult.Fit and more.\n",
      "실제 headline :  Delhi techie wins free food from Swiggy for one year on CRED\n",
      "추출적 요약 headline :  Users get one CRED coin per rupee of bill paid, which can be used to avail rewards from brands like Ixigo, BookMyShow, UberEats, Cult.Fit and more.\n",
      "\n",
      "\n",
      "<원문> : New Zealand defeated India by 8 wickets in the fourth ODI at Hamilton on Thursday to win their first match of the five-match ODI series. India lost an international match under Rohit Sharma's captaincy after 12 consecutive victories dating back to March 2018. The match witnessed India getting all out for 92, their seventh lowest total in ODI cricket history.\n",
      "실제 headline :  New Zealand end Rohit Sharma-led India's 12-match winning streak\n",
      "추출적 요약 headline :  The match witnessed India getting all out for 92, their seventh lowest total in ODI cricket history.\n",
      "\n",
      "\n",
      "<원문> : With Aegon Life iTerm Insurance plan, customers can enjoy tax benefits on your premiums paid and save up to Ã¢ÂÂ¹46,800^ on taxes. The plan provides life cover up to the age of 100 years. Also, customers have options to insure against Critical Illnesses, Disability and Accidental Death Benefit Rider with a life cover up to the age of 80 years.\n",
      "실제 headline :  Aegon life iTerm insurance plan helps customers save tax\n",
      "추출적 요약 headline :  Also, customers have options to insure against Critical Illnesses, Disability and Accidental Death Benefit Rider with a life cover up to the age of 80 years.\n",
      "\n",
      "\n",
      "<원문> : Speaking about the sexual harassment allegations against Rajkumar Hirani, Sonam Kapoor said, \"I've known Hirani for many years...What if it's not true, the [#MeToo] movement will get derailed.\" \"In the #MeToo movement, I always believe a woman. But in this case, we need to reserve our judgment,\" she added. Hirani has been accused by an assistant who worked in 'Sanju'.\n",
      "실제 headline :  Have known Hirani for yrs, what if MeToo claims are not true: Sonam\n",
      "추출적 요약 headline :  Speaking about the sexual harassment allegations against Rajkumar Hirani, Sonam Kapoor said, \"I've known Hirani for many years...What if it's not true, the [#MeToo] movement will get derailed.\" \"In the #MeToo movement, I always believe a woman.\n",
      "\n",
      "\n",
      "<원문> : Pakistani singer Rahat Fateh Ali Khan has denied receiving any notice from the Enforcement Directorate over allegedly smuggling foreign currency out of India. \"It would have been better if the authorities would have served the notice first if any and then publicised this,\" reads a press release issued on behalf of Rahat. The statement further called the allegation \"bizarre\".\n",
      "실제 headline :  Rahat Fateh Ali Khan denies getting notice for smuggling currency\n",
      "추출적 요약 headline :  Pakistani singer Rahat Fateh Ali Khan has denied receiving any notice from the Enforcement Directorate over allegedly smuggling foreign currency out of India.\n",
      "\n",
      "\n",
      "<원문> : India recorded their lowest ODI total in New Zealand after getting all out for 92 runs in 30.5 overs in the fourth ODI at Hamilton on Thursday. Seven of India's batsmen were dismissed for single-digit scores, while their number ten batsman Yuzvendra Chahal top-scored with 18*(37). India's previous lowest ODI total in New Zealand was 108.\n",
      "실제 headline :  India get all out for 92, their lowest ODI total in New Zealand\n",
      "추출적 요약 headline :  India's previous lowest ODI total in New Zealand was 108.\n",
      "\n",
      "\n",
      "<원문> : Weeks after ex-CBI Director Alok Verma told the Department of Personnel and Training to consider him retired, the Home Ministry asked him to join work on the last day of his fixed tenure as Director on Thursday. The ministry directed him to immediately join as DG, Fire Services, the post he was transferred to after his removal as CBI chief.\n",
      "실제 headline :  Govt directs Alok Verma to join work 1 day before his retirement\n",
      "추출적 요약 headline :  Weeks after ex-CBI Director Alok Verma told the Department of Personnel and Training to consider him retired, the Home Ministry asked him to join work on the last day of his fixed tenure as Director on Thursday.\n",
      "\n",
      "\n",
      "<원문> : Andhra Pradesh CM N Chandrababu Naidu has said, \"When I met then US President Bill Clinton, I addressed him as Mr Clinton, not as 'sir'. (PM Narendra) Modi is my junior in politics...I addressed him as sir 10 times.\" \"I did this...to satisfy his ego in the hope that he will do justice to the state,\" he added.\n",
      "실제 headline :  Called PM Modi 'sir' 10 times to satisfy his ego: Andhra CM\n",
      "추출적 요약 headline :  Andhra Pradesh CM N Chandrababu Naidu has said, \"When I met then US President Bill Clinton, I addressed him as Mr Clinton, not as 'sir'.\n",
      "\n",
      "\n",
      "<원문> : Congress candidate Shafia Zubair won the Ramgarh Assembly seat in Rajasthan, by defeating BJP's Sukhwant Singh with a margin of 12,228 votes in the bypoll. With this victory, Congress has taken its total to 100 seats in the 200-member assembly. The election to the Ramgarh seat was delayed due to the death of sitting MLA and BSP candidate Laxman Singh.\n",
      "실제 headline :  Cong wins Ramgarh bypoll in Rajasthan, takes total to 100 seats\n",
      "추출적 요약 headline :  Congress candidate Shafia Zubair won the Ramgarh Assembly seat in Rajasthan, by defeating BJP's Sukhwant Singh with a margin of 12,228 votes in the bypoll.\n",
      "\n",
      "\n"
     ]
    }
   ],
   "source": [
    "for i in range(10):\n",
    "    print(\"<원문> :\", data['text'][i])\n",
    "    print(\"실제 headline : \", data['headlines'][i])\n",
    "    print(\"추출적 요약 headline : \", summarize(data['text'][i], ratio=0.5))\n",
    "    print(\"\\n\")"
   ]
  }
 ],
 "metadata": {
  "kernelspec": {
   "display_name": "Python 3",
   "language": "python",
   "name": "python3"
  },
  "language_info": {
   "codemirror_mode": {
    "name": "ipython",
    "version": 3
   },
   "file_extension": ".py",
   "mimetype": "text/x-python",
   "name": "python",
   "nbconvert_exporter": "python",
   "pygments_lexer": "ipython3",
   "version": "3.7.9"
  }
 },
 "nbformat": 4,
 "nbformat_minor": 5
}
